{
  "nbformat": 4,
  "nbformat_minor": 0,
  "metadata": {
    "colab": {
      "provenance": [],
      "authorship_tag": "ABX9TyPUOte1L977B5XI2t6WwLOQ",
      "include_colab_link": true
    },
    "kernelspec": {
      "name": "python3",
      "display_name": "Python 3"
    },
    "language_info": {
      "name": "python"
    }
  },
  "cells": [
    {
      "cell_type": "markdown",
      "metadata": {
        "id": "view-in-github",
        "colab_type": "text"
      },
      "source": [
        "<a href=\"https://colab.research.google.com/github/fishitmo/Python-Code/blob/main/python_program_to_print_the_first_10_natural_numbers%2C_10_odd_numbers%2C_10_even_numbers%2C_10_prime_number_using_for_loop.ipynb\" target=\"_parent\"><img src=\"https://colab.research.google.com/assets/colab-badge.svg\" alt=\"Open In Colab\"/></a>"
      ]
    },
    {
      "cell_type": "markdown",
      "source": [
        "This program defines a function `is_prime()` to check if a number is prime or not. Then it uses for loops to print the first 10 natural numbers, odd numbers, and even numbers. It uses a while loop to print the first 10 prime numbers.\n"
      ],
      "metadata": {
        "id": "8-hKIAbXMsQW"
      }
    },
    {
      "cell_type": "code",
      "execution_count": 2,
      "metadata": {
        "colab": {
          "base_uri": "https://localhost:8080/"
        },
        "id": "ll_IAH5HIFPc",
        "outputId": "1bd7433c-6c6b-41fa-d630-1b513dacd197"
      },
      "outputs": [
        {
          "output_type": "stream",
          "name": "stdout",
          "text": [
            "First 10 natural numbers:\n",
            "1 2 3 4 5 6 7 8 9 10 \n",
            "\n",
            "First 10 odd numbers:\n",
            "1 3 5 7 9 11 13 15 17 19 \n",
            "\n",
            "First 10 even numbers:\n",
            "2 4 6 8 10 12 14 16 18 20 \n",
            "\n",
            "First 10 prime numbers:\n",
            "2 3 5 7 11 13 17 19 23 29 "
          ]
        }
      ],
      "source": [
        "def is_prime(num):\n",
        "    if num <= 1:\n",
        "        return False\n",
        "    for i in range(2, int(num**0.5) + 1):\n",
        "        if num % i == 0:\n",
        "            return False\n",
        "    return True\n",
        "\n",
        "# Print first 10 natural numbers\n",
        "print(\"First 10 natural numbers:\")\n",
        "for i in range(1, 11):\n",
        "    print(i, end=\" \")\n",
        "print(\"\\n\")\n",
        "\n",
        "# Print first 10 odd numbers\n",
        "print(\"First 10 odd numbers:\")\n",
        "for i in range(1, 21, 2):\n",
        "    print(i, end=\" \")\n",
        "print(\"\\n\")\n",
        "\n",
        "# Print first 10 even numbers\n",
        "print(\"First 10 even numbers:\")\n",
        "for i in range(2, 21, 2):\n",
        "    print(i, end=\" \")\n",
        "print(\"\\n\")\n",
        "\n",
        "# Print first 10 prime numbers\n",
        "print(\"First 10 prime numbers:\")\n",
        "count = 0\n",
        "num = 2\n",
        "while count < 10:\n",
        "    if is_prime(num):\n",
        "        print(num, end=\" \")\n",
        "        count += 1\n",
        "    num += 1\n"
      ]
    }
  ]
}