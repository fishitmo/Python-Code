{
  "nbformat": 4,
  "nbformat_minor": 0,
  "metadata": {
    "colab": {
      "provenance": [],
      "authorship_tag": "ABX9TyP486NqZi6dOjqtUjpqFKYm",
      "include_colab_link": true
    },
    "kernelspec": {
      "name": "python3",
      "display_name": "Python 3"
    },
    "language_info": {
      "name": "python"
    }
  },
  "cells": [
    {
      "cell_type": "markdown",
      "metadata": {
        "id": "view-in-github",
        "colab_type": "text"
      },
      "source": [
        "<a href=\"https://colab.research.google.com/github/fishitmo/Python-Code/blob/main/Python_program_to_convert_the_month_name_to_a_number_of_days.ipynb\" target=\"_parent\"><img src=\"https://colab.research.google.com/assets/colab-badge.svg\" alt=\"Open In Colab\"/></a>"
      ]
    },
    {
      "cell_type": "markdown",
      "source": [
        "#**Python program to convert the month name to a number of days**"
      ],
      "metadata": {
        "id": "XTyRJ5eIBz2z"
      }
    },
    {
      "cell_type": "code",
      "execution_count": 3,
      "metadata": {
        "colab": {
          "base_uri": "https://localhost:8080/"
        },
        "id": "MBhPUDXZ1Wgn",
        "outputId": "ab790b81-0e20-43ea-be0b-4bd264ac8333"
      },
      "outputs": [
        {
          "output_type": "stream",
          "name": "stdout",
          "text": [
            "Enter the month name: April\n",
            "The number of days in April is: 30\n"
          ]
        }
      ],
      "source": [
        "import calendar\n",
        "\n",
        "def month_name_to_days(month_name):\n",
        "\n",
        "  try:\n",
        "\n",
        "    # Find the index of the month name in calendar.month_name\n",
        "\n",
        "    month_index = list(calendar.month_name).index(month_name.title())\n",
        "\n",
        "    # Get the number of days in the specified month\n",
        "\n",
        "    num_days = calendar.monthrange(2022, month_index)[1]\n",
        "\n",
        "    return num_days\n",
        "  except ValueError:\n",
        "    return \"Invalid month name\"\n",
        "#Test the function\n",
        "\n",
        "month_name = input(\"Enter the month name: \")\n",
        "days = month_name_to_days(month_name)\n",
        "print(f'The number of days in {month_name} is: {days}')"
      ]
    },
    {
      "cell_type": "markdown",
      "source": [
        "**Python program that converts a month name to the number of days in that month using Object-Oriented Programming (OOP) concepts**"
      ],
      "metadata": {
        "id": "3qp_FmAWA7kj"
      }
    },
    {
      "cell_type": "code",
      "source": [
        "class MonthConverter:\n",
        "  def __init__(self):\n",
        "    self.months = {\n",
        "        'January':31,\n",
        "        'February': 28,\n",
        "        'March': 31,\n",
        "        'April': 30,\n",
        "        'May': 31,\n",
        "        'June': 30,\n",
        "        'July': 31,\n",
        "        'August': 31,\n",
        "        'September': 30,\n",
        "        'October': 31,\n",
        "        'November': 30,\n",
        "        'December': 31\n",
        "    }\n",
        "  def get_days_in_months(self, months_name):\n",
        "    return self.months.get(month_name, None)\n",
        "\n",
        "def main():\n",
        "  converter = MonthConverter()\n",
        "  month_name = input(\"Enter the name of the month: \")\n",
        "  days = converter.get_days_in_months(month_name)\n",
        "  if days is not None:\n",
        "    print(f'Number of days in {month_name}: {days}')\n",
        "  else:\n",
        "    print(\"Invalid month name\")\n",
        "\n",
        "if __name__ == \"__main__\":\n",
        "  main()"
      ],
      "metadata": {
        "colab": {
          "base_uri": "https://localhost:8080/"
        },
        "id": "YMf_-Nsd7uME",
        "outputId": "5843ff54-9911-4c87-a753-bbf7991c0855"
      },
      "execution_count": 7,
      "outputs": [
        {
          "output_type": "stream",
          "name": "stdout",
          "text": [
            "Enter the name of the month: May\n",
            "Number of days in May: 30\n"
          ]
        }
      ]
    },
    {
      "cell_type": "code",
      "source": [],
      "metadata": {
        "id": "GoPEHKHM8bqg"
      },
      "execution_count": null,
      "outputs": []
    }
  ]
}