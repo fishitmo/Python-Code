{
  "nbformat": 4,
  "nbformat_minor": 0,
  "metadata": {
    "colab": {
      "provenance": [],
      "authorship_tag": "ABX9TyMcd7uvn2ZQ4VjgcsjNSDPN",
      "include_colab_link": true
    },
    "kernelspec": {
      "name": "python3",
      "display_name": "Python 3"
    },
    "language_info": {
      "name": "python"
    }
  },
  "cells": [
    {
      "cell_type": "markdown",
      "metadata": {
        "id": "view-in-github",
        "colab_type": "text"
      },
      "source": [
        "<a href=\"https://colab.research.google.com/github/fishitmo/Python-Code/blob/main/Python_program_to_get_the_Fibonacci_series_between_0_to_input().ipynb\" target=\"_parent\"><img src=\"https://colab.research.google.com/assets/colab-badge.svg\" alt=\"Open In Colab\"/></a>"
      ]
    },
    {
      "cell_type": "markdown",
      "source": [
        "This program defines a function fibonacci_series that generates the Fibonacci series up to the specified number. It iterates through Fibonacci numbers until reaching or exceeding the specified limit. Then, it prompts the user to enter the upper limit and prints the Fibonacci series up to that limit."
      ],
      "metadata": {
        "id": "Vp1H628RUnJe"
      }
    },
    {
      "cell_type": "code",
      "execution_count": 5,
      "metadata": {
        "colab": {
          "base_uri": "https://localhost:8080/"
        },
        "id": "iUSKdMOSUgll",
        "outputId": "7a35892f-7dc8-43b9-a57a-bb2ed2120d25"
      },
      "outputs": [
        {
          "output_type": "stream",
          "name": "stdout",
          "text": [
            "Enter the upper limit for the Fibonacci series: 20\n",
            "Fibonacci series up to 20 ; [0, 1, 1, 2, 3, 5, 8, 13]\n"
          ]
        }
      ],
      "source": [
        "def fibonacci_series(n):\n",
        "\n",
        "      \"\"\"\n",
        "      Generate the Fibonacci series up to the specified number.\n",
        "\n",
        "      :param n: The upper limit for the Fibonacci series\n",
        "      :type n: int\n",
        "      :return: List containing Fibonacci series up to n\n",
        "      :rtype: List[int]\n",
        "\n",
        "      \"\"\"\n",
        "\n",
        "      fib_series = []\n",
        "      a,b = 0,1\n",
        "\n",
        "      while a<= n:\n",
        "        fib_series.append(a)\n",
        "        a,b = b, a+b\n",
        "      return fib_series\n",
        "\n",
        "# input the uppere user from the user\n",
        "limit = int(input(\"Enter the upper limit for the Fibonacci series: \"))\n",
        "\n",
        "\n",
        "# Generate and print the Fibonacci series\n",
        "print(\"Fibonacci series up to\", limit, \";\" , fibonacci_series(limit))"
      ]
    }
  ]
}