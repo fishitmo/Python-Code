{
  "nbformat": 4,
  "nbformat_minor": 0,
  "metadata": {
    "colab": {
      "provenance": [],
      "authorship_tag": "ABX9TyMAJhW0pr5OxrSMuboyUWKq",
      "include_colab_link": true
    },
    "kernelspec": {
      "name": "python3",
      "display_name": "Python 3"
    },
    "language_info": {
      "name": "python"
    }
  },
  "cells": [
    {
      "cell_type": "markdown",
      "metadata": {
        "id": "view-in-github",
        "colab_type": "text"
      },
      "source": [
        "<a href=\"https://colab.research.google.com/github/fishitmo/Python-Code/blob/main/Python_program_to_find_the_factorial_of_a_given_number.ipynb\" target=\"_parent\"><img src=\"https://colab.research.google.com/assets/colab-badge.svg\" alt=\"Open In Colab\"/></a>"
      ]
    },
    {
      "cell_type": "markdown",
      "source": [
        "**This program calculates the factorial of a given number using an iterative approach. It iterates from 2 to the given number, multiplying each number to the result.**"
      ],
      "metadata": {
        "id": "APhsvV-kBeAl"
      }
    },
    {
      "cell_type": "code",
      "execution_count": 1,
      "metadata": {
        "colab": {
          "base_uri": "https://localhost:8080/"
        },
        "id": "5cZmbiXT_VK4",
        "outputId": "d7cecf88-5704-4578-f069-150c5bb2ad08"
      },
      "outputs": [
        {
          "output_type": "stream",
          "name": "stdout",
          "text": [
            "Factorial of 5 is 120\n"
          ]
        }
      ],
      "source": [
        "def factorial(n):\n",
        "  \"\"\"\n",
        "  Calculate the factorial of a given number\n",
        "\n",
        "  :param n: The number for which facorial needs to be calculatted\n",
        "  :type n: int\n",
        "  :return: The factorial of the given number\n",
        "  :rtype: int\n",
        "  \"\"\"\n",
        "\n",
        "  if n<0:\n",
        "    return None # Factorial is not defined for negative numbers\n",
        "  if n==0 or n==1:\n",
        "    return 1 # factorial of 0 and 1 is 1\n",
        "  result =1\n",
        "\n",
        "  for i in range(2, n+1):\n",
        "    result*=i\n",
        "  return result\n",
        "\n",
        "\n",
        "# Example usage\n",
        "\n",
        "number = 5\n",
        "\n",
        "print(\"Factorial of\", number, \"is\", factorial(number))   # output factorial"
      ]
    }
  ]
}