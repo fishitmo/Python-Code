{
  "nbformat": 4,
  "nbformat_minor": 0,
  "metadata": {
    "colab": {
      "provenance": [],
      "authorship_tag": "ABX9TyPmezI51lar4o8T9HyXzROP",
      "include_colab_link": true
    },
    "kernelspec": {
      "name": "python3",
      "display_name": "Python 3"
    },
    "language_info": {
      "name": "python"
    }
  },
  "cells": [
    {
      "cell_type": "markdown",
      "metadata": {
        "id": "view-in-github",
        "colab_type": "text"
      },
      "source": [
        "<a href=\"https://colab.research.google.com/github/fishitmo/Python-Code/blob/main/Roman_to_Integer.ipynb\" target=\"_parent\"><img src=\"https://colab.research.google.com/assets/colab-badge.svg\" alt=\"Open In Colab\"/></a>"
      ]
    },
    {
      "cell_type": "markdown",
      "source": [
        "## Roman numerals are represented by seven different symbols: I, V, X, L, C, D and M.\n",
        "\n",
        "| Symbol | Value |\n",
        "|--------|-------|\n",
        "| I      | 1     |\n",
        "| V      | 5     |\n",
        "| X      | 10    |\n",
        "| L      | 50    |\n",
        "| C      | 100   |\n",
        "| D      | 500   |\n",
        "| M      | 1000  |\n",
        "\n",
        "For example, 2 is written as II in Roman numeral, just two ones added together. 12 is written as XII, which is simply X + II. The number 27 is written as XXVII, which is XX + V + II.\n",
        "\n",
        "Roman numerals are usually written largest to smallest from left to right. However, the numeral for four is not IIII. Instead, the number four is written as IV. Because the one is before the five we subtract it making four. The same principle applies to the number nine, which is written as IX. There are six instances where subtraction is used:\n",
        "\n",
        "- I can be placed before V (5) and X (10) to make 4 and 9.\n",
        "- X can be placed before L (50) and C (100) to make 40 and 90.\n",
        "- C can be placed before D (500) and M (1000) to make 400 and 900.\n",
        "\n",
        "Given a roman numeral, convert it to an integer.\n",
        "\n",
        "### Example 1:\n",
        "\n",
        "Input: s = \"III\"\n",
        "Output: 3\n",
        "Explanation: III = 3.\n",
        "\n",
        "### Example 2:\n",
        "\n",
        "Input: s = \"LVIII\"\n",
        "Output: 58\n",
        "Explanation: L = 50, V = 5, III = 3.\n",
        "\n",
        "### Example 3:\n",
        "\n",
        "Input: s = \"MCMXCIV\"\n",
        "Output: 1994\n",
        "Explanation: M = 1000, CM = 900, XC = 90, and IV = 4.\n"
      ],
      "metadata": {
        "id": "zTUk9te1JeBW"
      }
    },
    {
      "cell_type": "code",
      "execution_count": 1,
      "metadata": {
        "id": "93ISY5kyJOxt"
      },
      "outputs": [],
      "source": [
        "class Solution:\n",
        "  def romanToInt(self, s: str)->int:\n",
        "    lookup= {\n",
        "        'I': 1,\n",
        "        'V': 5,\n",
        "        'X': 10,\n",
        "        'L': 50,\n",
        "        'C': 100,\n",
        "        'D': 500,\n",
        "        'M': 1000\n",
        "    }\n",
        "\n",
        "    N= len(s)\n",
        "    i= N-1\n",
        "    output= 0\n",
        "\n",
        "    while i>=0:\n",
        "      if i<N-1 and lookup[s[i]]<lookup[s[i+1]]:\n",
        "        output -= lookup[s[i]]\n",
        "      else:\n",
        "        output +=lookup[s[i]]\n",
        "      i -=1\n",
        "    return output"
      ]
    },
    {
      "cell_type": "code",
      "source": [
        "solutions = Solution()\n",
        "result= solutions.romanToInt('III')\n",
        "print(f'The Integer value of III is {result}')"
      ],
      "metadata": {
        "colab": {
          "base_uri": "https://localhost:8080/"
        },
        "id": "FNfSSFOLM1uw",
        "outputId": "a35039d5-d7f4-412a-d860-f54ffbcbe80d"
      },
      "execution_count": 2,
      "outputs": [
        {
          "output_type": "stream",
          "name": "stdout",
          "text": [
            "The Integer value of III is 3\n"
          ]
        }
      ]
    },
    {
      "cell_type": "code",
      "source": [
        "solutions = Solution()\n",
        "result= solutions.romanToInt('LVIII')\n",
        "print(f'The Integer value of LVIII is {result}')"
      ],
      "metadata": {
        "colab": {
          "base_uri": "https://localhost:8080/"
        },
        "id": "eJ8iyt6LNOi0",
        "outputId": "5326c5df-c46a-4fcb-c5c4-3031010ff72b"
      },
      "execution_count": 4,
      "outputs": [
        {
          "output_type": "stream",
          "name": "stdout",
          "text": [
            "The Integer value of LVIII is 58\n"
          ]
        }
      ]
    },
    {
      "cell_type": "code",
      "source": [
        "solutions = Solution()\n",
        "result= solutions.romanToInt('MCMXCIV')\n",
        "print(f'The Integer value of MCMXCIV is {result}')"
      ],
      "metadata": {
        "colab": {
          "base_uri": "https://localhost:8080/"
        },
        "id": "A570LdkVNNiJ",
        "outputId": "19b76144-1535-44a2-d5e8-5822fde3765b"
      },
      "execution_count": 5,
      "outputs": [
        {
          "output_type": "stream",
          "name": "stdout",
          "text": [
            "The Integer value of MCMXCIV is 1994\n"
          ]
        }
      ]
    }
  ]
}