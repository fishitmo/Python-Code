{
  "nbformat": 4,
  "nbformat_minor": 0,
  "metadata": {
    "colab": {
      "provenance": [],
      "authorship_tag": "ABX9TyMDIhGOrdGV9IMb0NudnJ5/",
      "include_colab_link": true
    },
    "kernelspec": {
      "name": "python3",
      "display_name": "Python 3"
    },
    "language_info": {
      "name": "python"
    }
  },
  "cells": [
    {
      "cell_type": "markdown",
      "metadata": {
        "id": "view-in-github",
        "colab_type": "text"
      },
      "source": [
        "<a href=\"https://colab.research.google.com/github/fishitmo/Python-Code/blob/main/Python_program_to_calculate_the_sum%2C_subtraction%2C_division%2C_multiplication%2C_floor_division%2C_modulus%2C_exponential_of_all_numbers_from_1_to_a_given_number_input().ipynb\" target=\"_parent\"><img src=\"https://colab.research.google.com/assets/colab-badge.svg\" alt=\"Open In Colab\"/></a>"
      ]
    },
    {
      "cell_type": "markdown",
      "source": [
        "\"This program calculates the specified operations for numbers from 1 to the given input number (n). Note that for division, floor division, and modulus operations, there are precautions taken to avoid division by zero.\"\n"
      ],
      "metadata": {
        "id": "yXSIU92PZhGZ"
      }
    },
    {
      "cell_type": "code",
      "execution_count": 8,
      "metadata": {
        "id": "ndFBQlbn1Ch7"
      },
      "outputs": [],
      "source": [
        "def calculate_operations(n):\n",
        "    # Initialize variables to store results\n",
        "    sum_result = 0\n",
        "    subtraction_result = 0\n",
        "    division_result = 0\n",
        "    multiplication_result = 0\n",
        "    floor_division_result = 0\n",
        "    modulus_result = 0\n",
        "    exponential_result = 0\n",
        "\n",
        "    # Perform calculations\n",
        "    for i in range(1, n+1):\n",
        "        sum_result += i\n",
        "        subtraction_result -= i\n",
        "        division_result /= i if i != 0 else 1  # Avoid division by zero\n",
        "        multiplication_result *= i\n",
        "        floor_division_result //= i if i != 0 else 1  # Avoid division by zero\n",
        "        modulus_result %= i if i != 0 else 1  # Avoid modulus by zero\n",
        "        exponential_result **= i\n",
        "\n",
        "    return sum_result, subtraction_result, division_result, multiplication_result, floor_division_result, modulus_result, exponential_result\n"
      ]
    },
    {
      "cell_type": "code",
      "source": [
        "# Input\n",
        "n = int(input(\"Enter a number: \"))\n",
        "\n",
        "# Calculate operations\n",
        "sum_result, subtraction_result, division_result, multiplication_result, floor_division_result, modulus_result, exponential_result = calculate_operations(n)\n",
        "\n",
        "# Display results\n",
        "print(\"Sum:\", sum_result)\n",
        "print(\"Subtraction:\", subtraction_result)\n",
        "print(\"Division:\", division_result)\n",
        "print(\"Multiplication:\", multiplication_result)\n",
        "print(\"Floor Division:\", floor_division_result)\n",
        "print(\"Modulus:\", modulus_result)\n",
        "print(\"Exponential:\", exponential_result)"
      ],
      "metadata": {
        "colab": {
          "base_uri": "https://localhost:8080/"
        },
        "id": "CYaX4_DCNM0b",
        "outputId": "31b8d77e-b3dd-4389-8ae4-d40e6e7c1c2b"
      },
      "execution_count": 10,
      "outputs": [
        {
          "output_type": "stream",
          "name": "stdout",
          "text": [
            "Enter a number: 20\n",
            "Sum: 210\n",
            "Subtraction: -210\n",
            "Division: 0.0\n",
            "Multiplication: 0\n",
            "Floor Division: 0\n",
            "Modulus: 0\n",
            "Exponential: 0\n"
          ]
        }
      ]
    },
    {
      "cell_type": "code",
      "source": [],
      "metadata": {
        "id": "y26HmzMNT7MC"
      },
      "execution_count": null,
      "outputs": []
    }
  ]
}