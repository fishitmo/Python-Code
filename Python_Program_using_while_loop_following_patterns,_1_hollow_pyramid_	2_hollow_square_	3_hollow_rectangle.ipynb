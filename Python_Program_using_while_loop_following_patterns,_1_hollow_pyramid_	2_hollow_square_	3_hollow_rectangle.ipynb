{
  "nbformat": 4,
  "nbformat_minor": 0,
  "metadata": {
    "colab": {
      "provenance": [],
      "authorship_tag": "ABX9TyOR6sJuiDVXrKdKSFDucZBs",
      "include_colab_link": true
    },
    "kernelspec": {
      "name": "python3",
      "display_name": "Python 3"
    },
    "language_info": {
      "name": "python"
    }
  },
  "cells": [
    {
      "cell_type": "markdown",
      "metadata": {
        "id": "view-in-github",
        "colab_type": "text"
      },
      "source": [
        "<a href=\"https://colab.research.google.com/github/fishitmo/Python-Code/blob/main/Python_Program_using_while_loop_following_patterns%2C_1_hollow_pyramid_%092_hollow_square_%093_hollow_rectangle.ipynb\" target=\"_parent\"><img src=\"https://colab.research.google.com/assets/colab-badge.svg\" alt=\"Open In Colab\"/></a>"
      ]
    },
    {
      "cell_type": "code",
      "execution_count": 5,
      "metadata": {
        "colab": {
          "base_uri": "https://localhost:8080/"
        },
        "id": "6rb7bpxJ5Aix",
        "outputId": "09ddd4c6-2574-4d47-df27-017b91dd3f7b"
      },
      "outputs": [
        {
          "output_type": "stream",
          "name": "stdout",
          "text": [
            "Hollow Pyramid:\n",
            "         *         \n",
            "        * *        \n",
            "       *   *       \n",
            "      *     *      \n",
            "     *       *     \n",
            "    *         *    \n",
            "   *           *   \n",
            "  *             *  \n",
            " *               * \n",
            "*******************\n"
          ]
        }
      ],
      "source": [
        "def print_hollow_pyramid(rows):\n",
        "    i = 1\n",
        "    while i <= rows:\n",
        "        j = 1\n",
        "        while j <= 2 * rows - 1:\n",
        "            if i == rows or i + j == rows + 1 or j - i == rows - 1:\n",
        "                print(\"*\", end=\"\")\n",
        "            else:\n",
        "                print(\" \", end=\"\")\n",
        "            j += 1\n",
        "        print()\n",
        "        i += 1\n",
        "\n",
        "# Example usage\n",
        "print(\"Hollow Pyramid:\")\n",
        "print_hollow_pyramid(10)\n"
      ]
    },
    {
      "cell_type": "code",
      "source": [],
      "metadata": {
        "id": "yF-mpB-HZjiC"
      },
      "execution_count": null,
      "outputs": []
    }
  ]
}