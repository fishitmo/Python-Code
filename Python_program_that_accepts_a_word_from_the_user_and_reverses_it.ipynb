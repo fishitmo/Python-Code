{
  "nbformat": 4,
  "nbformat_minor": 0,
  "metadata": {
    "colab": {
      "provenance": [],
      "authorship_tag": "ABX9TyPfGlYZcEQWhpenKBNHTqO4",
      "include_colab_link": true
    },
    "kernelspec": {
      "name": "python3",
      "display_name": "Python 3"
    },
    "language_info": {
      "name": "python"
    }
  },
  "cells": [
    {
      "cell_type": "markdown",
      "metadata": {
        "id": "view-in-github",
        "colab_type": "text"
      },
      "source": [
        "<a href=\"https://colab.research.google.com/github/fishitmo/Python-Code/blob/main/Python_program_that_accepts_a_word_from_the_user_and_reverses_it.ipynb\" target=\"_parent\"><img src=\"https://colab.research.google.com/assets/colab-badge.svg\" alt=\"Open In Colab\"/></a>"
      ]
    },
    {
      "cell_type": "markdown",
      "source": [
        "This program defines a function reverse_word that takes a word as input and returns its reverse using slicing ([::-1]). It then prompts the user to enter a word, passes it to the reverse_word function, and prints the reversed word."
      ],
      "metadata": {
        "id": "cGgeaxsEJfiv"
      }
    },
    {
      "cell_type": "code",
      "execution_count": 1,
      "metadata": {
        "id": "71psdEQSHfRE"
      },
      "outputs": [],
      "source": [
        "def reverse_word(word):\n",
        "\n",
        "    \"\"\"\n",
        "    Reverse a word.\n",
        "\n",
        "    :param word: The word to reverse\n",
        "    :type word: str\n",
        "    :return: The reversed word\n",
        "    :rtype: str\n",
        "    \"\"\"\n",
        "\n",
        "    return word[::-1]"
      ]
    },
    {
      "cell_type": "code",
      "source": [
        "# Accept a word from the user\n",
        "word = input(\"Enter a word: \")\n",
        "\n",
        "\n",
        "# Reverse the word\n",
        "reversed_word = reverse_word(word)\n",
        "\n",
        "#print the reversed word\n",
        "print(\"Reversed word:\", reversed_word)"
      ],
      "metadata": {
        "colab": {
          "base_uri": "https://localhost:8080/"
        },
        "id": "icrVGNGlIVfn",
        "outputId": "a451cda7-1833-409e-e94c-ec8f391aaceb"
      },
      "execution_count": 6,
      "outputs": [
        {
          "output_type": "stream",
          "name": "stdout",
          "text": [
            "Enter a word: FSEHAYE\n",
            "Reversed word: EYAHESF\n"
          ]
        }
      ]
    }
  ]
}